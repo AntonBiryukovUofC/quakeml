{
 "cells": [
  {
   "cell_type": "markdown",
   "metadata": {},
   "source": [
    "# Quick EDA to figure out the data structure"
   ]
  },
  {
   "cell_type": "markdown",
   "metadata": {},
   "source": [
    "Pre-load the libraries + write some misc functions"
   ]
  },
  {
   "cell_type": "code",
   "execution_count": 73,
   "metadata": {},
   "outputs": [
    {
     "name": "stdout",
     "output_type": "stream",
     "text": [
      "4967934\n",
      "..\\data\\processed\\acoustic_data_cycle_7.npy\n",
      "..\\data\\processed\\time_to_failure_cycle_7.npy\n",
      "..\\data\\training\\test\\waveforms\\seg_0b76f5.npy\n",
      "SegShape is (150000,)\n"
     ]
    }
   ],
   "source": [
    "import sys\n",
    "import numpy as np\n",
    "import altair as alt\n",
    "import pandas as pd\n",
    "#import obspy\n",
    "import os\n",
    "import seaborn as sns\n",
    "sns.set(rc={'figure.figsize':(10,5)})\n",
    "def get_cycle_data(quake_ml_root = \"..\", cycle_id = 7,subset = False,length = 5000,seed = 123):\n",
    "    \n",
    "    fname_amp = os.path.join(quake_ml_root,'data','processed',f'acoustic_data_cycle_{cycle_id}.npy')\n",
    "    fname_ttf = os.path.join(quake_ml_root,'data','processed',f'time_to_failure_cycle_{cycle_id}.npy')\n",
    "    \n",
    "    data_amp = np.load(fname_amp)\n",
    "    data_ttf = np.load(fname_ttf)\n",
    "    if subset:\n",
    "        np.random.seed(seed)\n",
    "        ind= np.random.randint(low = 0,high = data_amp.shape[0] - length)\n",
    "        print(ind)\n",
    "        length = int(length)\n",
    "        data_amp = data_amp[ind:(ind+length)]\n",
    "        data_ttf = data_ttf[ind:(ind+length)]\n",
    "    print(fname_amp)\n",
    "    print(fname_ttf)\n",
    "    assert data_amp.shape == data_ttf.shape, ' Shapes of ttf and amp mismatch!'\n",
    "    data_amp_df = pd.DataFrame({'time':np.arange(data_amp.shape[0]),'amp':data_amp,'ttf':data_ttf})\n",
    "    return data_amp_df\n",
    "\n",
    "def get_segment(quake_ml_root = \"..\",subfolds = ['data','training','test','waveforms'], seg_id = \"0b76f5\"):\n",
    "    paths = [quake_ml_root]+subfolds+[f'seg_{seg_id}']\n",
    "    seg_fname = os.path.join(*paths)\n",
    "    seg_fname = f'{seg_fname}.npy'\n",
    "    print(seg_fname)\n",
    "    data_seg = np.load(seg_fname)\n",
    "    print(f'SegShape is {data_seg.shape}')\n",
    "    data_seg_df = pd.DataFrame({'time':np.arange(data_seg.shape[0]),'amp':data_seg,'ttf':np.empty_like(data_seg)})\n",
    "    return data_seg_df\n",
    "\n",
    "def cut_cycle\n",
    "#def produce_intervals\n",
    "\n",
    "data_amp = get_cycle_data(subset=True,length=4e3)\n",
    "data_seg = get_segment()"
   ]
  },
  {
   "cell_type": "markdown",
   "metadata": {},
   "source": [
    "### Plot the subset of data:"
   ]
  },
  {
   "cell_type": "markdown",
   "metadata": {},
   "source": [
    "...and the segment"
   ]
  },
  {
   "cell_type": "code",
   "execution_count": 75,
   "metadata": {},
   "outputs": [
    {
     "data": {
      "text/plain": [
       "<matplotlib.axes._subplots.AxesSubplot at 0x1981c82a160>"
      ]
     },
     "execution_count": 75,
     "metadata": {},
     "output_type": "execute_result"
    },
    {
     "data": {
      "image/png": "[encoded data removed]",
      "text/plain": [
       "<Figure size 720x360 with 1 Axes>"
      ]
     },
     "metadata": {},
     "output_type": "display_data"
    }
   ],
   "source": [
    "sns.lineplot(data =data_seg,x='time',y='amp')\n"
   ]
  },
  {
   "cell_type": "code",
   "execution_count": null,
   "metadata": {},
   "outputs": [],
   "source": []
  }
 ],
 "metadata": {
  "kernelspec": {
   "display_name": "Python 3",
   "language": "python",
   "name": "python3"
  },
  "language_info": {
   "codemirror_mode": {
    "name": "ipython",
    "version": 3
   },
   "file_extension": ".py",
   "mimetype": "text/x-python",
   "name": "python",
   "nbconvert_exporter": "python",
   "pygments_lexer": "ipython3",
   "version": "3.7.0"
  }
 },
 "nbformat": 4,
 "nbformat_minor": 2
}
